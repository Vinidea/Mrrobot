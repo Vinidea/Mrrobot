{
 "cells": [
  {
   "cell_type": "markdown",
   "id": "ee898f5b-b306-4d0f-8a22-82b0abe1f17c",
   "metadata": {
    "tags": []
   },
   "source": [
    "<h1> My Jupyter Notebook on IBM Watson Studio </h1>"
   ]
  },
  {
   "cell_type": "markdown",
   "id": "d15f7b9f-e92e-458b-a244-b4958a9e447d",
   "metadata": {
    "tags": []
   },
   "source": [
    "<strong>Vinicius de Andrade</strong>\n",
    "Philosopher"
   ]
  },
  {
   "cell_type": "markdown",
   "id": "39c953a3-41de-4c77-affb-8b154029a5ad",
   "metadata": {
    "tags": []
   },
   "source": [
    "<em> I am interested in data science because I love studying data. What interests me the most is uncovering previously unimagined patterns in the data </em>"
   ]
  },
  {
   "cell_type": "markdown",
   "id": "5d6b6b16-22ba-419a-b826-b506115e02bf",
   "metadata": {
    "tags": []
   },
   "source": [
    "<h3> Code is supposed to sum 1 + 1 and display 2 as an answer </h3>"
   ]
  },
  {
   "cell_type": "code",
   "execution_count": 7,
   "id": "c7c2793a-d0f8-42bd-bb55-73ae6c84613b",
   "metadata": {
    "tags": []
   },
   "outputs": [
    {
     "data": {
      "text/plain": [
       "2"
      ]
     },
     "execution_count": 7,
     "metadata": {},
     "output_type": "execute_result"
    }
   ],
   "source": [
    "1+1"
   ]
  },
  {
   "cell_type": "markdown",
   "id": "16d93e10-d3b6-4d28-8a5c-56a65c7a5edf",
   "metadata": {
    "tags": []
   },
   "source": [
    "***"
   ]
  },
  {
   "cell_type": "markdown",
   "id": "99a30361-c23a-494a-8de9-50d928942a30",
   "metadata": {
    "tags": []
   },
   "source": [
    "- Data\n",
    "- Science\n",
    "- Is awesome"
   ]
  },
  {
   "cell_type": "markdown",
   "id": "730176b8-c295-4875-8b32-1193db83ecb0",
   "metadata": {
    "tags": []
   },
   "source": [
    "1. I\n",
    "2. Love\n",
    "3. Data Science"
   ]
  }
 ],
 "metadata": {
  "kernelspec": {
   "display_name": "Python",
   "language": "python",
   "name": "conda-env-python-py"
  },
  "language_info": {
   "codemirror_mode": {
    "name": "ipython",
    "version": 3
   },
   "file_extension": ".py",
   "mimetype": "text/x-python",
   "name": "python",
   "nbconvert_exporter": "python",
   "pygments_lexer": "ipython3",
   "version": "3.7.12"
  }
 },
 "nbformat": 4,
 "nbformat_minor": 5
}
